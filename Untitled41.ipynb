{
 "cells": [
  {
   "cell_type": "code",
   "execution_count": null,
   "metadata": {
    "colab": {
     "base_uri": "https://localhost:8080/"
    },
    "id": "C_q3g5Z-eC-L",
    "outputId": "541e465e-25c7-44b1-859d-73b297b6f04c"
   },
   "outputs": [],
   "source": [
    "!git clone https://github.com/amiratag/DataShapley.git"
   ]
  },
  {
   "cell_type": "code",
   "execution_count": null,
   "metadata": {
    "id": "g8F0rvV_CuaG"
   },
   "outputs": [],
   "source": [
    "import numpy as np\n",
    "import pandas as pd\n",
    "from sklearn.model_selection import train_test_split\n",
    "from sklearn.linear_model import LogisticRegression\n",
    "from sklearn.model_selection import GridSearchCV\n",
    "from sklearn.model_selection import cross_val_score\n",
    "import torch\n",
    "import transformers as ppb\n",
    "import warnings\n",
    "warnings.filterwarnings('ignore')"
   ]
  },
  {
   "cell_type": "code",
   "execution_count": null,
   "metadata": {
    "id": "KU6mXM7hCv_j"
   },
   "outputs": [],
   "source": [
    "df = pd.read_csv('https://github.com/clairett/pytorch-sentiment-classification/raw/master/data/SST2/train.tsv', delimiter='\\t', header=None)"
   ]
  },
  {
   "cell_type": "code",
   "execution_count": null,
   "metadata": {
    "id": "w5atqdemC9Lz"
   },
   "outputs": [],
   "source": [
    "batch_1 = df[:2000]"
   ]
  },
  {
   "cell_type": "code",
   "execution_count": null,
   "metadata": {
    "colab": {
     "base_uri": "https://localhost:8080/"
    },
    "id": "r8NmO3g_C_jN",
    "outputId": "38cc3b64-a4a1-490c-b69d-368f64a94187"
   },
   "outputs": [],
   "source": [
    "batch_1[1].value_counts()"
   ]
  },
  {
   "cell_type": "code",
   "execution_count": null,
   "metadata": {
    "colab": {
     "base_uri": "https://localhost:8080/"
    },
    "id": "G3yGtchGDDy2",
    "outputId": "e6e86fba-c19d-4dd9-d93a-3fbe35e188b8"
   },
   "outputs": [],
   "source": [
    "# For DistilBERT:\n",
    "model_class, tokenizer_class, pretrained_weights = (ppb.DistilBertModel, ppb.DistilBertTokenizer, 'distilbert-base-uncased')\n",
    "\n",
    "## Want BERT instead of distilBERT? Uncomment the following line:\n",
    "#model_class, tokenizer_class, pretrained_weights = (ppb.BertModel, ppb.BertTokenizer, 'bert-base-uncased')\n",
    "\n",
    "# Load pretrained model/tokenizer\n",
    "tokenizer = tokenizer_class.from_pretrained(pretrained_weights)\n",
    "model = model_class.from_pretrained(pretrained_weights)"
   ]
  },
  {
   "cell_type": "code",
   "execution_count": null,
   "metadata": {
    "id": "TrSRY7DSDHU2"
   },
   "outputs": [],
   "source": [
    "tokenized = batch_1[0].apply((lambda x: tokenizer.encode(x, add_special_tokens=True)))"
   ]
  },
  {
   "cell_type": "code",
   "execution_count": null,
   "metadata": {
    "id": "innWQAE6DNiG"
   },
   "outputs": [],
   "source": [
    "max_len = 0\n",
    "for i in tokenized.values:\n",
    "    if len(i) > max_len:\n",
    "        max_len = len(i)\n",
    "\n",
    "padded = np.array([i + [0]*(max_len-len(i)) for i in tokenized.values])"
   ]
  },
  {
   "cell_type": "code",
   "execution_count": null,
   "metadata": {
    "colab": {
     "base_uri": "https://localhost:8080/"
    },
    "id": "blKvKqbDDPTj",
    "outputId": "78749f87-c696-4ebc-a4a8-6017d851f871"
   },
   "outputs": [],
   "source": [
    "np.array(padded).shape"
   ]
  },
  {
   "cell_type": "code",
   "execution_count": null,
   "metadata": {
    "colab": {
     "base_uri": "https://localhost:8080/"
    },
    "id": "Ce5mb0huDRqO",
    "outputId": "00023100-0a94-480f-9c0a-e1782c227f3c"
   },
   "outputs": [],
   "source": [
    "attention_mask = np.where(padded != 0, 1, 0)\n",
    "attention_mask.shape"
   ]
  },
  {
   "cell_type": "code",
   "execution_count": null,
   "metadata": {
    "id": "39UVjAV56PJz"
   },
   "outputs": [],
   "source": [
    "input_ids = torch.tensor(padded)  \n",
    "attention_mask = torch.tensor(attention_mask)\n",
    "\n",
    "with torch.no_grad():\n",
    "    last_hidden_states = model(input_ids, attention_mask=attention_mask)"
   ]
  },
  {
   "cell_type": "code",
   "execution_count": null,
   "metadata": {
    "id": "4pcLeIdfDXfo"
   },
   "outputs": [],
   "source": [
    "features = last_hidden_states[0][:,0,:].numpy()"
   ]
  },
  {
   "cell_type": "code",
   "execution_count": null,
   "metadata": {
    "id": "TGGjnabnDZ4B"
   },
   "outputs": [],
   "source": [
    "labels = batch_1[1]"
   ]
  },
  {
   "cell_type": "code",
   "execution_count": null,
   "metadata": {
    "id": "N284ey-qDdZm"
   },
   "outputs": [],
   "source": [
    "train_features, test_features, train_labels, test_labels = train_test_split(features, labels)"
   ]
  },
  {
   "cell_type": "code",
   "execution_count": null,
   "metadata": {
    "colab": {
     "base_uri": "https://localhost:8080/"
    },
    "id": "0hnqRgeEkoW6",
    "outputId": "b3bcd21a-8c62-4da8-c503-00b4bd5ed84e"
   },
   "outputs": [],
   "source": [
    "!pip install tensorflow-gpu==1.15"
   ]
  },
  {
   "cell_type": "code",
   "execution_count": null,
   "metadata": {
    "colab": {
     "base_uri": "https://localhost:8080/"
    },
    "id": "Fh-b0EIKpCfT",
    "outputId": "7ef5c2aa-5d15-47a1-97cd-e5f2cae7510a"
   },
   "outputs": [],
   "source": [
    "import tensorflow.keras.backend as K\n",
    "from tensorflow.keras.utils import to_categorical\n",
    "from tensorflow.python.keras.layers import Dense, Embedding, LSTM\n",
    "from tensorflow.python.keras import Sequential\n",
    "from tensorflow.keras import optimizers\n",
    "from tensorflow.keras.datasets import imdb\n",
    "from tensorflow.keras.preprocessing import sequence\n",
    "\n",
    "# print(\"SHAP version is:\", shap.__version__)\n",
    "\n",
    "\n",
    "max_features = 20000\n",
    "maxlen = 80 \n",
    "batch_size = 32\n",
    "\n",
    "print('Loading data...')\n",
    "(x_train, y_train), (x_test, y_test) = imdb.load_data(num_words=max_features)\n",
    "print(len(x_train), 'train sequences')\n",
    "print(len(x_test), 'test sequences')\n",
    "\n",
    "print('Pad sequences (samples x time)')\n",
    "x_train = sequence.pad_sequences(x_train, maxlen=maxlen)\n",
    "x_test = sequence.pad_sequences(x_test, maxlen=maxlen)\n",
    "print('x_train shape:', x_train.shape)\n",
    "print('x_test shape:', x_test.shape)"
   ]
  },
  {
   "cell_type": "code",
   "execution_count": null,
   "metadata": {
    "colab": {
     "base_uri": "https://localhost:8080/"
    },
    "id": "ZXOfGaAYeJVe",
    "outputId": "8ff620d5-955c-49bb-ac9b-12e04afed929"
   },
   "outputs": [],
   "source": [
    "%cd DataShapley/"
   ]
  },
  {
   "cell_type": "code",
   "execution_count": null,
   "metadata": {
    "id": "rBKP7cJahLt9"
   },
   "outputs": [],
   "source": [
    "!cd .."
   ]
  },
  {
   "cell_type": "code",
   "execution_count": null,
   "metadata": {
    "id": "69Im2ofGeMPw"
   },
   "outputs": [],
   "source": [
    "# %load_ext autoreload\n",
    "# %autoreload 2\n",
    "import os\n",
    "import sys\n",
    "import time\n",
    "import numpy as np\n",
    "from Shapley import ShapNN\n",
    "from DShap import DShap\n",
    "import matplotlib.pyplot as plt\n",
    "import sklearn\n",
    "from shap_utils import *\n",
    "%matplotlib inline\n",
    "MEM_DIR = './'\n"
   ]
  },
  {
   "cell_type": "code",
   "execution_count": null,
   "metadata": {
    "id": "uhkYuCu3eRJZ"
   },
   "outputs": [],
   "source": [
    "problem, model = 'classification', 'logistic'\n",
    "hidden_units = [] # Empty list in the case of logistic regression.\n",
    "train_size = 100"
   ]
  },
  {
   "cell_type": "code",
   "execution_count": null,
   "metadata": {
    "colab": {
     "base_uri": "https://localhost:8080/",
     "height": 235
    },
    "id": "Y5yN1w8weVnD",
    "outputId": "905d616e-9e2a-433e-9668-d2f8b29487e2"
   },
   "outputs": [],
   "source": [
    "d, difficulty = 50, 1\n",
    "num_classes = 2\n",
    "tol = 0.03\n",
    "target_accuracy = 0.7\n",
    "important_dims = 5\n",
    "clf = return_model(model, solver='liblinear', hidden_units=tuple(hidden_units))\n",
    "_param = 1.0\n",
    "for _ in range(100):\n",
    "    X_raw = np.random.multivariate_normal(mean=np.zeros(d), cov = np.eye(d), \n",
    "                                          size=train_size + 5000)\n",
    "    _, y_raw, _, _ = label_generator(\n",
    "        problem, X_raw, param = _param,  difficulty = difficulty, important=important_dims)\n",
    "    clf.fit(X_raw[:train_size], y_raw[:train_size])\n",
    "    test_acc = clf.score(X_raw[train_size:], y_raw[train_size:])\n",
    "    if test_acc > target_accuracy:\n",
    "        break\n",
    "    _param *= 1.1\n",
    "print('Performance using the whole training set = {0:.2f}'.format(test_acc))\n"
   ]
  },
  {
   "cell_type": "code",
   "execution_count": 2,
   "metadata": {
    "id": "QTnBhV5km5vi"
   },
   "outputs": [],
   "source": [
    "X = np.load('nn2/test_data.npy')\n",
    "y = np.load('nn2/train_label.npy')\n",
    "X_test = np.load('nn2/test_data.npy')\n",
    "y_test = np.load('nn2/test_label.npy')"
   ]
  },
  {
   "cell_type": "code",
   "execution_count": null,
   "metadata": {
    "id": "F-iijDuzyXju"
   },
   "outputs": [],
   "source": [
    "!pip install numpy==1.19.5"
   ]
  },
  {
   "cell_type": "code",
   "execution_count": 6,
   "metadata": {
    "colab": {
     "base_uri": "https://localhost:8080/"
    },
    "id": "mqTlzfGEeWya",
    "outputId": "712daccf-06ff-4dfa-b0e2-1beda3a51e79"
   },
   "outputs": [
    {
     "name": "stdout",
     "output_type": "stream",
     "text": [
      "25000\n",
      "LOO values calculated!\n",
      "1.0\n",
      "1 out of 2 TMC_Shapley iterations.\n",
      "2 out of 2 TMC_Shapley iterations.\n",
      "1.0\n",
      "1 out of 2 TMC_Shapley iterations.\n",
      "2 out of 2 TMC_Shapley iterations.\n",
      "1.0\n",
      "1 out of 2 TMC_Shapley iterations.\n",
      "2 out of 2 TMC_Shapley iterations.\n",
      "1.0\n",
      "1 out of 2 TMC_Shapley iterations.\n",
      "2 out of 2 TMC_Shapley iterations.\n",
      "1.0\n",
      "1 out of 2 TMC_Shapley iterations.\n",
      "2 out of 2 TMC_Shapley iterations.\n",
      "1.0\n",
      "1 out of 2 TMC_Shapley iterations.\n",
      "2 out of 2 TMC_Shapley iterations.\n",
      "1.0\n",
      "1 out of 2 TMC_Shapley iterations.\n",
      "2 out of 2 TMC_Shapley iterations.\n",
      "1.0\n",
      "1 out of 2 TMC_Shapley iterations.\n",
      "2 out of 2 TMC_Shapley iterations.\n",
      "1.0\n",
      "1 out of 2 TMC_Shapley iterations.\n",
      "2 out of 2 TMC_Shapley iterations.\n",
      "1.0\n",
      "1 out of 2 TMC_Shapley iterations.\n",
      "2 out of 2 TMC_Shapley iterations.\n",
      "1.0\n",
      "1 out of 2 TMC_Shapley iterations.\n",
      "2 out of 2 TMC_Shapley iterations.\n",
      "1.0\n",
      "1 out of 2 TMC_Shapley iterations.\n",
      "2 out of 2 TMC_Shapley iterations.\n",
      "1.0\n",
      "1 out of 2 TMC_Shapley iterations.\n",
      "2 out of 2 TMC_Shapley iterations.\n",
      "1.0\n",
      "1 out of 2 TMC_Shapley iterations.\n",
      "2 out of 2 TMC_Shapley iterations.\n",
      "1.0\n",
      "1 out of 2 TMC_Shapley iterations.\n",
      "2 out of 2 TMC_Shapley iterations.\n",
      "1.0\n",
      "1 out of 2 TMC_Shapley iterations.\n",
      "2 out of 2 TMC_Shapley iterations.\n",
      "1.0\n",
      "1 out of 2 TMC_Shapley iterations.\n",
      "2 out of 2 TMC_Shapley iterations.\n",
      "1.0\n",
      "1 out of 2 TMC_Shapley iterations.\n",
      "2 out of 2 TMC_Shapley iterations.\n",
      "1.0\n",
      "1 out of 2 TMC_Shapley iterations.\n",
      "2 out of 2 TMC_Shapley iterations.\n",
      "1.0\n",
      "1 out of 2 TMC_Shapley iterations.\n",
      "2 out of 2 TMC_Shapley iterations.\n",
      "1.0\n",
      "1 out of 2 TMC_Shapley iterations.\n",
      "2 out of 2 TMC_Shapley iterations.\n",
      "1.0\n",
      "1 out of 2 TMC_Shapley iterations.\n",
      "2 out of 2 TMC_Shapley iterations.\n",
      "1.0\n",
      "1 out of 2 TMC_Shapley iterations.\n",
      "2 out of 2 TMC_Shapley iterations.\n",
      "1.0\n",
      "1 out of 2 TMC_Shapley iterations.\n",
      "2 out of 2 TMC_Shapley iterations.\n",
      "1.0\n",
      "1 out of 2 TMC_Shapley iterations.\n",
      "2 out of 2 TMC_Shapley iterations.\n",
      "1.0\n",
      "1 out of 2 TMC_Shapley iterations.\n",
      "2 out of 2 TMC_Shapley iterations.\n",
      "1.0\n",
      "1 out of 2 TMC_Shapley iterations.\n",
      "2 out of 2 TMC_Shapley iterations.\n",
      "1.0\n",
      "1 out of 2 TMC_Shapley iterations.\n",
      "2 out of 2 TMC_Shapley iterations.\n",
      "1.0\n",
      "1 out of 2 TMC_Shapley iterations.\n",
      "2 out of 2 TMC_Shapley iterations.\n",
      "1.0\n",
      "1 out of 2 TMC_Shapley iterations.\n",
      "2 out of 2 TMC_Shapley iterations.\n",
      "1.0\n",
      "1 out of 2 TMC_Shapley iterations.\n",
      "2 out of 2 TMC_Shapley iterations.\n",
      "1.0\n",
      "1 out of 2 TMC_Shapley iterations.\n",
      "2 out of 2 TMC_Shapley iterations.\n",
      "1.0\n",
      "1 out of 2 TMC_Shapley iterations.\n",
      "2 out of 2 TMC_Shapley iterations.\n",
      "1.0\n",
      "1 out of 2 TMC_Shapley iterations.\n",
      "2 out of 2 TMC_Shapley iterations.\n",
      "1.0\n",
      "1 out of 2 TMC_Shapley iterations.\n",
      "2 out of 2 TMC_Shapley iterations.\n",
      "1.0\n",
      "1 out of 2 TMC_Shapley iterations.\n",
      "2 out of 2 TMC_Shapley iterations.\n",
      "1.0\n",
      "1 out of 2 TMC_Shapley iterations.\n",
      "2 out of 2 TMC_Shapley iterations.\n",
      "1.0\n",
      "1 out of 2 TMC_Shapley iterations.\n",
      "2 out of 2 TMC_Shapley iterations.\n",
      "1.0\n",
      "1 out of 2 TMC_Shapley iterations.\n",
      "2 out of 2 TMC_Shapley iterations.\n",
      "1.0\n",
      "1 out of 2 TMC_Shapley iterations.\n",
      "2 out of 2 TMC_Shapley iterations.\n",
      "1.0\n",
      "1 out of 2 TMC_Shapley iterations.\n",
      "2 out of 2 TMC_Shapley iterations.\n",
      "1.0\n",
      "1 out of 2 TMC_Shapley iterations.\n",
      "2 out of 2 TMC_Shapley iterations.\n",
      "1.0\n",
      "1 out of 2 TMC_Shapley iterations.\n",
      "2 out of 2 TMC_Shapley iterations.\n",
      "1.0\n",
      "1 out of 2 TMC_Shapley iterations.\n",
      "2 out of 2 TMC_Shapley iterations.\n",
      "1.0\n",
      "1 out of 2 TMC_Shapley iterations.\n",
      "2 out of 2 TMC_Shapley iterations.\n",
      "1.0\n",
      "1 out of 2 TMC_Shapley iterations.\n",
      "2 out of 2 TMC_Shapley iterations.\n",
      "1.0\n",
      "1 out of 2 TMC_Shapley iterations.\n",
      "2 out of 2 TMC_Shapley iterations.\n",
      "1.0\n",
      "1 out of 2 TMC_Shapley iterations.\n",
      "2 out of 2 TMC_Shapley iterations.\n",
      "1.0\n",
      "1 out of 2 TMC_Shapley iterations.\n",
      "2 out of 2 TMC_Shapley iterations.\n",
      "1.0\n",
      "1 out of 2 TMC_Shapley iterations.\n",
      "2 out of 2 TMC_Shapley iterations.\n",
      "7.970169583738859\n",
      "1 out of 2 TMC_Shapley iterations.\n",
      "2 out of 2 TMC_Shapley iterations.\n",
      "7.824161704391363\n",
      "1 out of 2 TMC_Shapley iterations.\n",
      "2 out of 2 TMC_Shapley iterations.\n",
      "4.119536594560718\n",
      "1 out of 2 TMC_Shapley iterations.\n",
      "2 out of 2 TMC_Shapley iterations.\n",
      "3.164769096061204\n",
      "1 out of 2 TMC_Shapley iterations.\n",
      "2 out of 2 TMC_Shapley iterations.\n",
      "1.7934269665361646\n",
      "1 out of 2 TMC_Shapley iterations.\n",
      "2 out of 2 TMC_Shapley iterations.\n",
      "1.8682930062344716\n",
      "1 out of 2 TMC_Shapley iterations.\n",
      "2 out of 2 TMC_Shapley iterations.\n",
      "1.5380736562331234\n",
      "1 out of 2 TMC_Shapley iterations.\n",
      "2 out of 2 TMC_Shapley iterations.\n",
      "1.4381547396959027\n",
      "1 out of 2 TMC_Shapley iterations.\n",
      "2 out of 2 TMC_Shapley iterations.\n",
      "1.0070456851093077\n",
      "1 out of 2 TMC_Shapley iterations.\n",
      "2 out of 2 TMC_Shapley iterations.\n",
      "0.9472320102354024\n",
      "1 out of 2 TMC_Shapley iterations.\n",
      "2 out of 2 TMC_Shapley iterations.\n",
      "1.1375618409968096\n",
      "1 out of 2 TMC_Shapley iterations.\n",
      "2 out of 2 TMC_Shapley iterations.\n",
      "1.1070741672096311\n",
      "1 out of 2 TMC_Shapley iterations.\n",
      "2 out of 2 TMC_Shapley iterations.\n",
      "0.7908043538364139\n",
      "1 out of 2 TMC_Shapley iterations.\n",
      "2 out of 2 TMC_Shapley iterations.\n",
      "0.7969852498815568\n",
      "1 out of 2 TMC_Shapley iterations.\n",
      "2 out of 2 TMC_Shapley iterations.\n",
      "0.8363235813219034\n",
      "1 out of 2 TMC_Shapley iterations.\n",
      "2 out of 2 TMC_Shapley iterations.\n",
      "0.8152816728963063\n",
      "1 out of 2 TMC_Shapley iterations.\n",
      "2 out of 2 TMC_Shapley iterations.\n",
      "0.5064117148825161\n",
      "1 out of 2 TMC_Shapley iterations.\n",
      "2 out of 2 TMC_Shapley iterations.\n",
      "0.5025238984742998\n",
      "1 out of 2 TMC_Shapley iterations.\n",
      "2 out of 2 TMC_Shapley iterations.\n",
      "0.5061920496640201\n",
      "1 out of 2 TMC_Shapley iterations.\n",
      "2 out of 2 TMC_Shapley iterations.\n",
      "0.49380936339470716\n",
      "1 out of 2 TMC_Shapley iterations.\n",
      "2 out of 2 TMC_Shapley iterations.\n",
      "0.4640051972503078\n",
      "1 out of 2 TMC_Shapley iterations.\n",
      "2 out of 2 TMC_Shapley iterations.\n",
      "0.4026410562352038\n",
      "1 out of 2 TMC_Shapley iterations.\n",
      "2 out of 2 TMC_Shapley iterations.\n",
      "0.40088110486092576\n",
      "1 out of 2 TMC_Shapley iterations.\n",
      "2 out of 2 TMC_Shapley iterations.\n",
      "0.412450368242025\n",
      "1 out of 2 TMC_Shapley iterations.\n",
      "2 out of 2 TMC_Shapley iterations.\n",
      "0.4212729823610157\n",
      "1 out of 2 TMC_Shapley iterations.\n",
      "2 out of 2 TMC_Shapley iterations.\n",
      "0.4259769122740946\n",
      "1 out of 2 TMC_Shapley iterations.\n",
      "2 out of 2 TMC_Shapley iterations.\n",
      "0.39174955101309783\n",
      "1 out of 2 TMC_Shapley iterations.\n",
      "2 out of 2 TMC_Shapley iterations.\n",
      "0.39018627034245584\n",
      "1 out of 2 TMC_Shapley iterations.\n",
      "2 out of 2 TMC_Shapley iterations.\n",
      "0.41438424555300574\n",
      "1 out of 2 TMC_Shapley iterations.\n",
      "2 out of 2 TMC_Shapley iterations.\n",
      "0.408728296577618\n",
      "1 out of 2 TMC_Shapley iterations.\n",
      "2 out of 2 TMC_Shapley iterations.\n",
      "0.4340224792838868\n",
      "1 out of 2 TMC_Shapley iterations.\n",
      "2 out of 2 TMC_Shapley iterations.\n",
      "0.4294651501362397\n",
      "1 out of 2 TMC_Shapley iterations.\n",
      "2 out of 2 TMC_Shapley iterations.\n",
      "0.5408945695497839\n",
      "1 out of 2 TMC_Shapley iterations.\n",
      "2 out of 2 TMC_Shapley iterations.\n",
      "0.5192978618973259\n",
      "1 out of 2 TMC_Shapley iterations.\n",
      "2 out of 2 TMC_Shapley iterations.\n",
      "1.1030397198746071\n",
      "1 out of 2 TMC_Shapley iterations.\n",
      "2 out of 2 TMC_Shapley iterations.\n",
      "51851742.07286243\n",
      "1 out of 2 TMC_Shapley iterations.\n",
      "2 out of 2 TMC_Shapley iterations.\n",
      "0.7373711714880118\n",
      "1 out of 2 TMC_Shapley iterations.\n",
      "2 out of 2 TMC_Shapley iterations.\n",
      "0.7453769030620532\n",
      "1 out of 2 TMC_Shapley iterations.\n",
      "2 out of 2 TMC_Shapley iterations.\n",
      "0.47965760414874486\n",
      "1 out of 2 TMC_Shapley iterations.\n",
      "2 out of 2 TMC_Shapley iterations.\n",
      "0.48073266048246355\n",
      "1 out of 2 TMC_Shapley iterations.\n",
      "2 out of 2 TMC_Shapley iterations.\n",
      "0.46872549688521886\n",
      "1 out of 2 TMC_Shapley iterations.\n",
      "2 out of 2 TMC_Shapley iterations.\n",
      "0.5966129528927323\n",
      "1 out of 2 TMC_Shapley iterations.\n",
      "2 out of 2 TMC_Shapley iterations.\n",
      "0.5298681924234241\n",
      "1 out of 2 TMC_Shapley iterations.\n",
      "2 out of 2 TMC_Shapley iterations.\n",
      "0.44640183806582123\n",
      "1 out of 2 TMC_Shapley iterations.\n",
      "2 out of 2 TMC_Shapley iterations.\n",
      "0.5365066236820418\n",
      "1 out of 2 TMC_Shapley iterations.\n",
      "2 out of 2 TMC_Shapley iterations.\n",
      "0.4444463816666083\n",
      "1 out of 2 TMC_Shapley iterations.\n",
      "2 out of 2 TMC_Shapley iterations.\n",
      "0.33401687713924544\n",
      "1 out of 2 TMC_Shapley iterations.\n",
      "2 out of 2 TMC_Shapley iterations.\n",
      "0.35686334377036993\n",
      "1 out of 2 TMC_Shapley iterations.\n",
      "2 out of 2 TMC_Shapley iterations.\n",
      "0.35650583680012815\n",
      "1 out of 2 TMC_Shapley iterations.\n",
      "2 out of 2 TMC_Shapley iterations.\n",
      "0.2559557955832118\n",
      "1 out of 2 TMC_Shapley iterations.\n",
      "2 out of 2 TMC_Shapley iterations.\n",
      "0.2504969170788554\n",
      "1 out of 2 TMC_Shapley iterations.\n",
      "2 out of 2 TMC_Shapley iterations.\n"
     ]
    },
    {
     "name": "stdout",
     "output_type": "stream",
     "text": [
      "0.2487727429433145\n",
      "1 out of 2 TMC_Shapley iterations.\n",
      "2 out of 2 TMC_Shapley iterations.\n",
      "0.21407948288974243\n",
      "1 out of 2 TMC_Shapley iterations.\n",
      "2 out of 2 TMC_Shapley iterations.\n",
      "0.21428032517875564\n",
      "1 out of 2 TMC_Shapley iterations.\n",
      "2 out of 2 TMC_Shapley iterations.\n",
      "0.21209479668905457\n",
      "1 out of 2 TMC_Shapley iterations.\n",
      "2 out of 2 TMC_Shapley iterations.\n",
      "0.21141150676329656\n",
      "1 out of 2 TMC_Shapley iterations.\n",
      "2 out of 2 TMC_Shapley iterations.\n",
      "0.19620905670542857\n",
      "1 out of 2 TMC_Shapley iterations.\n",
      "2 out of 2 TMC_Shapley iterations.\n",
      "0.19562738556641754\n",
      "1 out of 2 TMC_Shapley iterations.\n",
      "2 out of 2 TMC_Shapley iterations.\n",
      "0.19275332029551895\n",
      "1 out of 2 TMC_Shapley iterations.\n",
      "2 out of 2 TMC_Shapley iterations.\n",
      "0.2216086396305892\n",
      "1 out of 2 TMC_Shapley iterations.\n",
      "2 out of 2 TMC_Shapley iterations.\n",
      "0.22513481458602502\n",
      "1 out of 2 TMC_Shapley iterations.\n",
      "2 out of 2 TMC_Shapley iterations.\n",
      "0.21359275843431305\n",
      "1 out of 2 TMC_Shapley iterations.\n",
      "2 out of 2 TMC_Shapley iterations.\n",
      "0.20810964190229694\n",
      "1 out of 2 TMC_Shapley iterations.\n",
      "2 out of 2 TMC_Shapley iterations.\n",
      "0.20476948992914362\n",
      "1 out of 2 TMC_Shapley iterations.\n",
      "2 out of 2 TMC_Shapley iterations.\n",
      "0.1996090555514551\n",
      "1 out of 2 TMC_Shapley iterations.\n",
      "2 out of 2 TMC_Shapley iterations.\n",
      "0.18610204094621\n",
      "1 out of 2 TMC_Shapley iterations.\n",
      "2 out of 2 TMC_Shapley iterations.\n",
      "0.18749622391578186\n",
      "1 out of 2 TMC_Shapley iterations.\n",
      "2 out of 2 TMC_Shapley iterations.\n",
      "0.1854882408147206\n",
      "1 out of 2 TMC_Shapley iterations.\n",
      "2 out of 2 TMC_Shapley iterations.\n",
      "0.17659581965259064\n",
      "1 out of 2 TMC_Shapley iterations.\n",
      "2 out of 2 TMC_Shapley iterations.\n",
      "0.16588647002157908\n",
      "1 out of 2 TMC_Shapley iterations.\n",
      "2 out of 2 TMC_Shapley iterations.\n",
      "0.16730932130269832\n",
      "1 out of 2 TMC_Shapley iterations.\n",
      "2 out of 2 TMC_Shapley iterations.\n",
      "0.17137941316280067\n",
      "1 out of 2 TMC_Shapley iterations.\n",
      "2 out of 2 TMC_Shapley iterations.\n",
      "0.15134192653175035\n",
      "1 out of 2 TMC_Shapley iterations.\n",
      "2 out of 2 TMC_Shapley iterations.\n",
      "0.15205090552858697\n",
      "1 out of 2 TMC_Shapley iterations.\n",
      "2 out of 2 TMC_Shapley iterations.\n",
      "0.14940534996878402\n",
      "1 out of 2 TMC_Shapley iterations.\n",
      "2 out of 2 TMC_Shapley iterations.\n",
      "0.15145149910316166\n",
      "1 out of 2 TMC_Shapley iterations.\n",
      "2 out of 2 TMC_Shapley iterations.\n",
      "0.1415184884476138\n",
      "1 out of 2 TMC_Shapley iterations.\n",
      "2 out of 2 TMC_Shapley iterations.\n",
      "0.13496986039227082\n",
      "1 out of 2 TMC_Shapley iterations.\n",
      "2 out of 2 TMC_Shapley iterations.\n",
      "0.13133119125276993\n",
      "1 out of 2 TMC_Shapley iterations.\n",
      "2 out of 2 TMC_Shapley iterations.\n",
      "0.12854685273277666\n",
      "1 out of 2 TMC_Shapley iterations.\n",
      "2 out of 2 TMC_Shapley iterations.\n",
      "0.1443027614659126\n",
      "1 out of 2 TMC_Shapley iterations.\n",
      "2 out of 2 TMC_Shapley iterations.\n",
      "0.14104174477174364\n",
      "1 out of 2 TMC_Shapley iterations.\n",
      "2 out of 2 TMC_Shapley iterations.\n",
      "0.12888670222403842\n",
      "1 out of 2 TMC_Shapley iterations.\n",
      "2 out of 2 TMC_Shapley iterations.\n",
      "0.12865729272313461\n",
      "1 out of 2 TMC_Shapley iterations.\n",
      "2 out of 2 TMC_Shapley iterations.\n",
      "1.0173944685654277\n",
      "1 out of 2 TMC_Shapley iterations.\n",
      "2 out of 2 TMC_Shapley iterations.\n",
      "0.5573275471887197\n",
      "1 out of 2 TMC_Shapley iterations.\n",
      "2 out of 2 TMC_Shapley iterations.\n",
      "0.26706934394029047\n",
      "1 out of 2 TMC_Shapley iterations.\n",
      "2 out of 2 TMC_Shapley iterations.\n",
      "0.23746508122998528\n",
      "1 out of 2 TMC_Shapley iterations.\n",
      "2 out of 2 TMC_Shapley iterations.\n",
      "0.27217204318809574\n",
      "1 out of 2 TMC_Shapley iterations.\n",
      "2 out of 2 TMC_Shapley iterations.\n",
      "0.1888183097529695\n",
      "1 out of 2 TMC_Shapley iterations.\n",
      "2 out of 2 TMC_Shapley iterations.\n",
      "0.11226272196357842\n",
      "1 out of 2 TMC_Shapley iterations.\n",
      "2 out of 2 TMC_Shapley iterations.\n",
      "0.11017264573082797\n",
      "1 out of 2 TMC_Shapley iterations.\n",
      "2 out of 2 TMC_Shapley iterations.\n",
      "0.11090080931160536\n",
      "1 out of 2 TMC_Shapley iterations.\n",
      "2 out of 2 TMC_Shapley iterations.\n",
      "0.10354751761546463\n",
      "1 out of 2 TMC_Shapley iterations.\n",
      "2 out of 2 TMC_Shapley iterations.\n",
      "0.10130315461417139\n",
      "1 out of 2 TMC_Shapley iterations.\n",
      "2 out of 2 TMC_Shapley iterations.\n",
      "0.10061289053660862\n",
      "1 out of 2 TMC_Shapley iterations.\n",
      "2 out of 2 TMC_Shapley iterations.\n",
      "0.09769651310640402\n"
     ]
    }
   ],
   "source": [
    "# X, y = X_raw[:train_size], y_raw[:train_size]\n",
    "# print(type(y))\n",
    "# # print(train_features.shape)\n",
    "# X_test, y_test = X_raw[train_size:], y_raw[train_size:]\n",
    "# print(test_labels.shape)\n",
    "# print(type(test_labels))\n",
    "\n",
    "model = 'logistic'\n",
    "problem = 'classification'\n",
    "num_test = 250\n",
    "directory = './temp'\n",
    "#train_features, train_labels.to_numpy(), test_features, \n",
    "#             test_labels.to_numpy()\n",
    "#X[:1000], y[:1000], X_test[:1000], y_test[:1000]\n",
    "print(len(X))\n",
    "dshap = DShap(X[:100],y[:100],X_test[:10000], y_test[:10000], num_test, \n",
    "              sources=None, \n",
    "              sample_weight=None,\n",
    "              model_family=model, \n",
    "              metric='accuracy',\n",
    "              overwrite=True,\n",
    "              directory=directory, seed=0, )\n",
    "dshap.run(50, 0.1, g_run=False, loo_run=False)\n"
   ]
  },
  {
   "cell_type": "code",
   "execution_count": null,
   "metadata": {
    "id": "MUnAZyhqisVe"
   },
   "outputs": [],
   "source": [
    "X, y = X_raw[:100], y_raw[:100]\n",
    "X_test, y_test = X_raw[100:], y_raw[100:]\n",
    "model = 'NN'\n",
    "problem = 'classification'\n",
    "num_test = 1000\n",
    "directory = './temp'\n",
    "dshap = DShap(X, y, X_test, y_test, num_test, model_family=model, metric='accuracy',\n",
    "              directory=directory, seed=1)\n",
    "dshap.run(100, 0.2, g_run=False, loo_run=False)"
   ]
  },
  {
   "cell_type": "code",
   "execution_count": 5,
   "metadata": {
    "colab": {
     "base_uri": "https://localhost:8080/",
     "height": 166
    },
    "id": "sv_PZbfnnGQE",
    "outputId": "202bb8f6-3ccc-48c9-f8e4-cdb2c0a5b23e"
   },
   "outputs": [
    {
     "name": "stdout",
     "output_type": "stream",
     "text": [
      "1000\n"
     ]
    }
   ],
   "source": [
    "print(len(dshap.vals_tmc))"
   ]
  },
  {
   "cell_type": "code",
   "execution_count": null,
   "metadata": {
    "id": "3n9QkKVzhdSb"
   },
   "outputs": [],
   "source": [
    "np.save('shaps_1',dshap.vals_tmc)"
   ]
  },
  {
   "cell_type": "code",
   "execution_count": null,
   "metadata": {
    "colab": {
     "base_uri": "https://localhost:8080/"
    },
    "id": "ADUmNCA0_NOC",
    "outputId": "24b7f4e0-c12a-48ff-beb3-23ff99d8ed93"
   },
   "outputs": [],
   "source": [
    "print(dshap.vals_g)"
   ]
  },
  {
   "cell_type": "code",
   "execution_count": null,
   "metadata": {
    "id": "YAvFBdfw6cwc"
   },
   "outputs": [],
   "source": [
    "x = np.load('/content/DataShapley/shaps_1.npy')"
   ]
  },
  {
   "cell_type": "code",
   "execution_count": null,
   "metadata": {
    "colab": {
     "base_uri": "https://localhost:8080/"
    },
    "id": "Uq1-LK206gFA",
    "outputId": "842c237e-9777-409f-ba94-8bec1b858077"
   },
   "outputs": [],
   "source": [
    "print((x))"
   ]
  },
  {
   "cell_type": "code",
   "execution_count": null,
   "metadata": {
    "id": "gaVfXvLU-P2h"
   },
   "outputs": [],
   "source": [
    "directory = './temp2'\n",
    "dshap = DShap(X, y, X_test, y_test, num_test, model_family=model, metric='accuracy',\n",
    "              directory=directory, seed=1)\n",
    "dshap.run(500, 0.1)"
   ]
  },
  {
   "cell_type": "code",
   "execution_count": null,
   "metadata": {
    "id": "zqLCJ645u3To"
   },
   "outputs": [],
   "source": [
    "import matplotlib.pyplot as plt\n",
    "x = \n",
    "plt.plot([1,2,3,4,12,15],'g*', [1,4,9,16], 'ro')\n",
    "plt.show()\n"
   ]
  }
 ],
 "metadata": {
  "colab": {
   "collapsed_sections": [],
   "name": "Untitled41.ipynb",
   "provenance": []
  },
  "kernelspec": {
   "display_name": "Python 3 (ipykernel)",
   "language": "python",
   "name": "python3"
  },
  "language_info": {
   "codemirror_mode": {
    "name": "ipython",
    "version": 3
   },
   "file_extension": ".py",
   "mimetype": "text/x-python",
   "name": "python",
   "nbconvert_exporter": "python",
   "pygments_lexer": "ipython3",
   "version": "3.7.13"
  }
 },
 "nbformat": 4,
 "nbformat_minor": 1
}
