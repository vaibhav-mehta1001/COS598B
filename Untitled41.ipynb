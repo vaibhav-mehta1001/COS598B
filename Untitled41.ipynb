{
  "nbformat": 4,
  "nbformat_minor": 0,
  "metadata": {
    "colab": {
      "name": "Untitled41.ipynb",
      "provenance": [],
      "collapsed_sections": []
    },
    "kernelspec": {
      "name": "python3",
      "display_name": "Python 3"
    },
    "language_info": {
      "name": "python"
    }
  },
  "cells": [
    {
      "cell_type": "code",
      "execution_count": null,
      "metadata": {
        "id": "C_q3g5Z-eC-L"
      },
      "outputs": [],
      "source": [
        "!git clone https://github.com/amiratag/DataShapley.git"
      ]
    },
    {
      "cell_type": "code",
      "source": [
        "! rm -d -r temp"
      ],
      "metadata": {
        "id": "5eYuXR4DKNuz"
      },
      "execution_count": null,
      "outputs": []
    },
    {
      "cell_type": "code",
      "source": [
        "%cd DataShapley/"
      ],
      "metadata": {
        "colab": {
          "base_uri": "https://localhost:8080/"
        },
        "id": "ZXOfGaAYeJVe",
        "outputId": "6c2c381a-b6cb-48b2-b9bc-a0050d833356"
      },
      "execution_count": null,
      "outputs": [
        {
          "output_type": "stream",
          "name": "stdout",
          "text": [
            "/content/DataShapley\n"
          ]
        }
      ]
    },
    {
      "cell_type": "code",
      "source": [
        "!cd .."
      ],
      "metadata": {
        "id": "rBKP7cJahLt9"
      },
      "execution_count": null,
      "outputs": []
    },
    {
      "cell_type": "code",
      "source": [
        "# %load_ext autoreload\n",
        "# %autoreload 2\n",
        "import os\n",
        "import sys\n",
        "import time\n",
        "import numpy as np\n",
        "from Shapley import ShapNN\n",
        "from DShap import DShap\n",
        "import matplotlib.pyplot as plt\n",
        "import sklearn\n",
        "from shap_utils import *\n",
        "%matplotlib inline\n",
        "MEM_DIR = './'\n"
      ],
      "metadata": {
        "id": "69Im2ofGeMPw"
      },
      "execution_count": null,
      "outputs": []
    },
    {
      "cell_type": "code",
      "source": [
        "problem, model = 'classification', 'logistic'\n",
        "hidden_units = [] # Empty list in the case of logistic regression.\n",
        "train_size = 100"
      ],
      "metadata": {
        "id": "uhkYuCu3eRJZ"
      },
      "execution_count": null,
      "outputs": []
    },
    {
      "cell_type": "code",
      "source": [
        "import numpy as np\n",
        "X = np.load('/content/train_data (2).npy')\n",
        "y = np.load('/content/train_label (2).npy')\n",
        "X_test = np.load('/content/test_data (2).npy')\n",
        "y_test = np.load('/content/test_label (2).npy')\n",
        "# x2 = np.load('/content/train_data (1).npy')\n"
      ],
      "metadata": {
        "id": "QTnBhV5km5vi"
      },
      "execution_count": null,
      "outputs": []
    },
    {
      "cell_type": "code",
      "source": [
        "!pip install numpy==1.19.5"
      ],
      "metadata": {
        "id": "F-iijDuzyXju"
      },
      "execution_count": null,
      "outputs": []
    },
    {
      "cell_type": "code",
      "source": [
        "# X, y = X_raw[:train_size], y_raw[:train_size]\n",
        "# print(type(y))\n",
        "# print(train_features.shape)\n",
        "# X_test, y_test = X_raw[train_size:], y_raw[train_size:]\n",
        "# print(test_labels.shape)\n",
        "# print(type(test_labels))\n",
        "\n",
        "model = 'logistic'\n",
        "problem = 'classification'\n",
        "num_test = 250\n",
        "directory = './temp'\n",
        "#train_features, train_labels.to_numpy(), test_features, \n",
        "#             test_labels.to_numpy()\n",
        "print(len(X))\n",
        "dshap = DShap(X[:10000], y[:10000], X_test[:20000], y_test[:20000], num_test, \n",
        "              sources=None, \n",
        "              sample_weight=None,\n",
        "              model_family=model, \n",
        "              metric='accuracy',\n",
        "              overwrite=True,\n",
        "              directory=directory, seed=0, )\n",
        "dshap.run(100, 0.1, g_run=False, loo_run=False)\n"
      ],
      "metadata": {
        "id": "mqTlzfGEeWya"
      },
      "execution_count": null,
      "outputs": []
    },
    {
      "cell_type": "code",
      "source": [
        ""
      ],
      "metadata": {
        "id": "fH6bdUVhqVQz"
      },
      "execution_count": null,
      "outputs": []
    },
    {
      "cell_type": "code",
      "source": [
        "!cp -r \"/content/DataShapley/temp\" \"/content/gdrive/MyDrive/SHAP_temp\"\n"
      ],
      "metadata": {
        "id": "KDeo_cqDqzwf"
      },
      "execution_count": null,
      "outputs": []
    },
    {
      "cell_type": "code",
      "source": [
        "X, y = X_raw[:100], y_raw[:100]\n",
        "X_test, y_test = X_raw[100:], y_raw[100:]\n",
        "model = 'logistic'\n",
        "problem = 'classification'\n",
        "num_test = 1000\n",
        "directory = './temp'\n",
        "dshap = DShap(X, y, X_test, y_test, num_test, model_family=model, metric='accuracy',\n",
        "              directory=directory, seed=1)\n",
        "dshap.run(100, 0.1)"
      ],
      "metadata": {
        "id": "MUnAZyhqisVe"
      },
      "execution_count": null,
      "outputs": []
    },
    {
      "cell_type": "code",
      "source": [
        "print((dshap.vals_tmc))"
      ],
      "metadata": {
        "id": "sv_PZbfnnGQE"
      },
      "execution_count": null,
      "outputs": []
    },
    {
      "cell_type": "code",
      "source": [
        "x = dshap.vals_tmc"
      ],
      "metadata": {
        "id": "ADUmNCA0_NOC"
      },
      "execution_count": null,
      "outputs": []
    },
    {
      "cell_type": "code",
      "source": [
        "import numpy as np\n",
        "x = np.load('/content/shaps_nn1_10000.npy')\n",
        "x2 = np.load('/content/shaps_nn2_10000.npy')"
      ],
      "metadata": {
        "id": "YAvFBdfw6cwc"
      },
      "execution_count": 2,
      "outputs": []
    },
    {
      "cell_type": "code",
      "source": [
        "plt.plot(x[9000:])\n",
        "plt.plot(x2[9000:])\n"
      ],
      "metadata": {
        "colab": {
          "base_uri": "https://localhost:8080/",
          "height": 183
        },
        "id": "Uq1-LK206gFA",
        "outputId": "0bc3e943-86d4-4f83-b719-b8d62467750e"
      },
      "execution_count": 3,
      "outputs": [
        {
          "output_type": "error",
          "ename": "NameError",
          "evalue": "ignored",
          "traceback": [
            "\u001b[0;31m---------------------------------------------------------------------------\u001b[0m",
            "\u001b[0;31mNameError\u001b[0m                                 Traceback (most recent call last)",
            "\u001b[0;32m<ipython-input-3-7da8fe62e42b>\u001b[0m in \u001b[0;36m<module>\u001b[0;34m()\u001b[0m\n\u001b[0;32m----> 1\u001b[0;31m \u001b[0mplt\u001b[0m\u001b[0;34m.\u001b[0m\u001b[0mplot\u001b[0m\u001b[0;34m(\u001b[0m\u001b[0mx\u001b[0m\u001b[0;34m[\u001b[0m\u001b[0;36m9000\u001b[0m\u001b[0;34m:\u001b[0m\u001b[0;34m]\u001b[0m\u001b[0;34m)\u001b[0m\u001b[0;34m\u001b[0m\u001b[0;34m\u001b[0m\u001b[0m\n\u001b[0m\u001b[1;32m      2\u001b[0m \u001b[0mplt\u001b[0m\u001b[0;34m.\u001b[0m\u001b[0mplot\u001b[0m\u001b[0;34m(\u001b[0m\u001b[0mx2\u001b[0m\u001b[0;34m[\u001b[0m\u001b[0;36m9000\u001b[0m\u001b[0;34m:\u001b[0m\u001b[0;34m]\u001b[0m\u001b[0;34m)\u001b[0m\u001b[0;34m\u001b[0m\u001b[0;34m\u001b[0m\u001b[0m\n",
            "\u001b[0;31mNameError\u001b[0m: name 'plt' is not defined"
          ]
        }
      ]
    },
    {
      "cell_type": "code",
      "source": [
        "#define Jaccard Similarity function\n",
        "def jaccard(list1, list2):\n",
        "    print(len(list1))\n",
        "    intersection = len(list(set(list1).intersection(list2)))\n",
        "    union = (len(list1) + len(list2)) - intersection\n",
        "    return float(intersection) / union\n"
      ],
      "metadata": {
        "id": "NIgnGobtFg9-"
      },
      "execution_count": 4,
      "outputs": []
    },
    {
      "cell_type": "code",
      "source": [
        ""
      ],
      "metadata": {
        "id": "G0ReFYV_Gk1e"
      },
      "execution_count": null,
      "outputs": []
    },
    {
      "cell_type": "code",
      "source": [
        "d = dict(enumerate(x.flatten(), 1))\n",
        "d2 = dict(enumerate(x2.flatten(), 1))\n",
        "s1 = dict(sorted(d.items(), key=lambda item: item[1]))\n",
        "s2 = dict(sorted(d2.items(), key=lambda item: item[1]))\n",
        "l1 = list(s1.keys())\n",
        "l2 = list(s2.keys())\n",
        "print(len(l1))\n",
        "print(jaccard(l1[:10], l2[:10]))"
      ],
      "metadata": {
        "colab": {
          "base_uri": "https://localhost:8080/"
        },
        "id": "Gp6J1DDzEnfa",
        "outputId": "5831eb3c-8f5e-4cc1-8ca2-a66e3a1852d5"
      },
      "execution_count": 5,
      "outputs": [
        {
          "output_type": "stream",
          "name": "stdout",
          "text": [
            "10000\n",
            "10\n",
            "0.17647058823529413\n"
          ]
        }
      ]
    },
    {
      "cell_type": "code",
      "source": [
        "directory = './temp2'\n",
        "dshap = DShap(X, y, X_test, y_test, num_test, model_family=model, metric='accuracy',\n",
        "              directory=directory, seed=1)\n",
        "dshap.run(500, 0.1)"
      ],
      "metadata": {
        "id": "gaVfXvLU-P2h"
      },
      "execution_count": null,
      "outputs": []
    },
    {
      "cell_type": "code",
      "source": [
        "import matplotlib.pyplot as plt\n",
        "x = \n",
        "plt.plot([1,2,3,4,12,15],'g*', [1,4,9,16], 'ro')\n",
        "plt.show()\n"
      ],
      "metadata": {
        "id": "zqLCJ645u3To"
      },
      "execution_count": null,
      "outputs": []
    }
  ]
}